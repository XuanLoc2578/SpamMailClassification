{
 "cells": [
  {
   "cell_type": "code",
   "execution_count": 1,
   "id": "2005d627",
   "metadata": {},
   "outputs": [
    {
     "name": "stderr",
     "output_type": "stream",
     "text": [
      "[nltk_data] Downloading package stopwords to\n",
      "[nltk_data]     C:\\Users\\LENOVO\\AppData\\Roaming\\nltk_data...\n",
      "[nltk_data]   Package stopwords is already up-to-date!\n"
     ]
    }
   ],
   "source": [
    "import nltk\n",
    "nltk.download('stopwords')\n",
    "from nltk.corpus import stopwords\n",
    "from nltk.stem.porter import PorterStemmer\n",
    "from nltk.tokenize import sent_tokenize, word_tokenize\n",
    "\n",
    "import numpy as np\n",
    "import pandas as pd\n",
    "import re\n",
    "import math\n",
    "import timeit\n",
    "import string"
   ]
  },
  {
   "cell_type": "code",
   "execution_count": 2,
   "id": "41c6b795",
   "metadata": {},
   "outputs": [],
   "source": [
    "start = timeit.default_timer()"
   ]
  },
  {
   "cell_type": "code",
   "execution_count": 3,
   "id": "eba286a1",
   "metadata": {},
   "outputs": [],
   "source": [
    "data = pd.read_csv(\"emails.csv\", usecols = ['text', 'spam'])"
   ]
  },
  {
   "cell_type": "code",
   "execution_count": 4,
   "id": "1d281311",
   "metadata": {},
   "outputs": [
    {
     "name": "stderr",
     "output_type": "stream",
     "text": [
      "C:\\Users\\LENOVO\\AppData\\Local\\Temp/ipykernel_14924/1874566426.py:11: SettingWithCopyWarning: \n",
      "A value is trying to be set on a copy of a slice from a DataFrame\n",
      "\n",
      "See the caveats in the documentation: https://pandas.pydata.org/pandas-docs/stable/user_guide/indexing.html#returning-a-view-versus-a-copy\n",
      "  data['text'][i] = data['text'][i].replace(ch, \"\")\n",
      "C:\\Users\\LENOVO\\AppData\\Local\\Temp/ipykernel_14924/1874566426.py:13: SettingWithCopyWarning: \n",
      "A value is trying to be set on a copy of a slice from a DataFrame\n",
      "\n",
      "See the caveats in the documentation: https://pandas.pydata.org/pandas-docs/stable/user_guide/indexing.html#returning-a-view-versus-a-copy\n",
      "  data['text'][i] = re.sub(r'\\w*\\d\\w*', '', data['text'][i]).strip()\n",
      "C:\\Users\\LENOVO\\AppData\\Local\\Temp/ipykernel_14924/1874566426.py:15: SettingWithCopyWarning: \n",
      "A value is trying to be set on a copy of a slice from a DataFrame\n",
      "\n",
      "See the caveats in the documentation: https://pandas.pydata.org/pandas-docs/stable/user_guide/indexing.html#returning-a-view-versus-a-copy\n",
      "  data['text'][i] = word_tokenize(data['text'][i])\n",
      "C:\\Users\\LENOVO\\AppData\\Local\\Temp/ipykernel_14924/1874566426.py:17: SettingWithCopyWarning: \n",
      "A value is trying to be set on a copy of a slice from a DataFrame\n",
      "\n",
      "See the caveats in the documentation: https://pandas.pydata.org/pandas-docs/stable/user_guide/indexing.html#returning-a-view-versus-a-copy\n",
      "  data['text'][i] = [di for di in data['text'][i] if not di in set(stopwords.words('english'))]\n",
      "C:\\Users\\LENOVO\\AppData\\Local\\Temp/ipykernel_14924/1874566426.py:19: SettingWithCopyWarning: \n",
      "A value is trying to be set on a copy of a slice from a DataFrame\n",
      "\n",
      "See the caveats in the documentation: https://pandas.pydata.org/pandas-docs/stable/user_guide/indexing.html#returning-a-view-versus-a-copy\n",
      "  data['text'][i] = [ps.stem(di) for di in data['text'][i]]\n"
     ]
    }
   ],
   "source": [
    "skips = [\".\", \",\", \":\", \";\", \"'\", '\"', '_', '-', '%', '_', '(', ')', '!', '/', '--', '?', '$', '|', \n",
    "         '=', '*', '@', '<', '>', '^', '{', '}', '`', '~', '+', ']', '[' '\\\\', '\\\\\\\\', \"&\", '#',\n",
    "         '\\x01', '\\x05', '\\x06', '\\x07', '\\x0f', '\\x14', '\\x15']\n",
    "\n",
    "ps = PorterStemmer()\n",
    "\n",
    "for i in range(len(data['text'])):\n",
    "    data['text'][i].lower()\n",
    "    \n",
    "    for ch in skips:\n",
    "        data['text'][i] = data['text'][i].replace(ch, \"\")\n",
    "        \n",
    "    data['text'][i] = re.sub(r'\\w*\\d\\w*', '', data['text'][i]).strip()\n",
    "        \n",
    "    data['text'][i] = word_tokenize(data['text'][i])\n",
    "    \n",
    "    data['text'][i] = [di for di in data['text'][i] if not di in set(stopwords.words('english'))]\n",
    "    \n",
    "    data['text'][i] = [ps.stem(di) for di in data['text'][i]]"
   ]
  },
  {
   "cell_type": "markdown",
   "id": "c4956b1c",
   "metadata": {},
   "source": [
    "# Using formula"
   ]
  },
  {
   "cell_type": "code",
   "execution_count": 5,
   "id": "b3d9b1ac",
   "metadata": {},
   "outputs": [],
   "source": [
    "def clean_data(phrase):\n",
    "    skips = string.punctuation\n",
    "    \n",
    "    phrase.lower()        \n",
    "\n",
    "    for skip in skips:\n",
    "        phrase = phrase.replace(skip, \"\")\n",
    "\n",
    "    phrase = re.sub(r'\\w*\\d\\w*', '', phrase).strip()\n",
    "\n",
    "    phrase_l = word_tokenize(phrase)\n",
    "    \n",
    "    phrase_l = [ph for ph in phrase_l if not ph in set(stopwords.words('english'))]\n",
    "    \n",
    "    ps = PorterStemmer()\n",
    "    phrase_l = [ps.stem(ph) for ph in phrase_l]\n",
    "    return phrase_l"
   ]
  },
  {
   "cell_type": "code",
   "execution_count": 6,
   "id": "6a6766f5",
   "metadata": {},
   "outputs": [],
   "source": [
    "numb_of_spam = data['spam'].sum()\n",
    "numb_of_nonspam = len(data['spam']) - numb_of_spam"
   ]
  },
  {
   "cell_type": "code",
   "execution_count": 7,
   "id": "e6a73448",
   "metadata": {},
   "outputs": [],
   "source": [
    "spam = data['text'][data['spam'] == 1]\n",
    "nonspam = data['text'][data['spam'] == 0]"
   ]
  },
  {
   "cell_type": "code",
   "execution_count": 8,
   "id": "1e4623a0",
   "metadata": {},
   "outputs": [],
   "source": [
    "def Word_Spam(word):\n",
    "    count = sum(map(lambda x: word in x, spam))\n",
    "    return (count+1)/(numb_of_spam+1)\n",
    "    \n",
    "    \n",
    "def Word_NonSpam(word):\n",
    "    count = sum(map(lambda x: word in x, nonspam))\n",
    "    return (count+1)/(numb_of_nonspam+1)"
   ]
  },
  {
   "cell_type": "code",
   "execution_count": 9,
   "id": "58b682c3",
   "metadata": {},
   "outputs": [],
   "source": [
    "def predict_spam_or_non(phrase_l):\n",
    "\n",
    "    spam_list = [numb_of_spam/len(data['spam'])]\n",
    "    nonspam_list = [numb_of_nonspam/len(data['spam'])]\n",
    "    \n",
    "    for i in range(len(phrase_l)):\n",
    "        c1 = Word_Spam(phrase_l[i])\n",
    "        c2 = Word_NonSpam(phrase_l[i])\n",
    "        spam_list.append(c1)\n",
    "        nonspam_list.append(c2)\n",
    "\n",
    "    spam_result_list = math.prod(spam_list)\n",
    "    nonspam_result_list = math.prod(nonspam_list)\n",
    "    \n",
    "    if spam_result_list<=nonspam_result_list:\n",
    "        print(0)\n",
    "    else:\n",
    "        print(1)"
   ]
  },
  {
   "cell_type": "code",
   "execution_count": 10,
   "id": "0a61fa93",
   "metadata": {},
   "outputs": [
    {
     "name": "stdout",
     "output_type": "stream",
     "text": [
      "1\n",
      "Running time:  360.9036364\n"
     ]
    }
   ],
   "source": [
    "test = \"Dear User, Courtesy Notice from the Admin Team, You have reached the storage limit for your Mailbox on the database server. You will be blocked from sending or receiving new messages if your email is not verified within 48hours. Please click BELOW to verify and access e-mail restore.CLICK HERE thanks WINDOWS LIVE TEAM\"\n",
    "# test = \"Book Chamber of Secrets also sword reaches harry only when he puts on the sorting hat and requests it to help and thus sorting hat provides harry the sword by a thud on his head whereas in the movie its shown that sword appears without harry putting on the sorting hat\"\n",
    "\n",
    "# start = timeit.default_timer()\n",
    "predict_spam_or_non(clean_data(test))\n",
    "stop = timeit.default_timer()\n",
    "\n",
    "print(\"Running time: \", stop - start)"
   ]
  },
  {
   "cell_type": "code",
   "execution_count": null,
   "id": "4967b291",
   "metadata": {},
   "outputs": [],
   "source": []
  }
 ],
 "metadata": {
  "kernelspec": {
   "display_name": "Python 3 (ipykernel)",
   "language": "python",
   "name": "python3"
  },
  "language_info": {
   "codemirror_mode": {
    "name": "ipython",
    "version": 3
   },
   "file_extension": ".py",
   "mimetype": "text/x-python",
   "name": "python",
   "nbconvert_exporter": "python",
   "pygments_lexer": "ipython3",
   "version": "3.8.8"
  }
 },
 "nbformat": 4,
 "nbformat_minor": 5
}

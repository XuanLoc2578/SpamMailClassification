{
 "cells": [
  {
   "cell_type": "code",
   "execution_count": 1,
   "id": "958424e3",
   "metadata": {},
   "outputs": [
    {
     "name": "stderr",
     "output_type": "stream",
     "text": [
      "[nltk_data] Downloading package stopwords to\n",
      "[nltk_data]     C:\\Users\\LENOVO\\AppData\\Roaming\\nltk_data...\n",
      "[nltk_data]   Package stopwords is already up-to-date!\n"
     ]
    }
   ],
   "source": [
    "import re\n",
    "\n",
    "import nltk\n",
    "nltk.download('stopwords')\n",
    "from nltk.corpus import stopwords\n",
    "from nltk.stem.porter import PorterStemmer\n",
    "from nltk.tokenize import sent_tokenize, word_tokenize\n",
    "\n",
    "import sklearn\n",
    "from sklearn.naive_bayes import BernoulliNB\n",
    "from sklearn.naive_bayes import GaussianNB\n",
    "from sklearn.naive_bayes import MultinomialNB\n",
    "from sklearn.model_selection import train_test_split\n",
    "from sklearn import metrics\n",
    "from sklearn.metrics import accuracy_score\n",
    "\n",
    "import numpy as np\n",
    "import pandas as pd"
   ]
  },
  {
   "cell_type": "code",
   "execution_count": 2,
   "id": "f7341441",
   "metadata": {},
   "outputs": [],
   "source": [
    "data = pd.read_csv(\"emails.csv\", usecols = ['text', 'spam'])"
   ]
  },
  {
   "cell_type": "code",
   "execution_count": 3,
   "id": "6ba5798a",
   "metadata": {},
   "outputs": [
    {
     "name": "stderr",
     "output_type": "stream",
     "text": [
      "C:\\Users\\LENOVO\\AppData\\Local\\Temp/ipykernel_7540/2369810091.py:9: SettingWithCopyWarning: \n",
      "A value is trying to be set on a copy of a slice from a DataFrame\n",
      "\n",
      "See the caveats in the documentation: https://pandas.pydata.org/pandas-docs/stable/user_guide/indexing.html#returning-a-view-versus-a-copy\n",
      "  data['text'][i] = data['text'][i].replace(ch, \"\")\n",
      "C:\\Users\\LENOVO\\AppData\\Local\\Temp/ipykernel_7540/2369810091.py:11: SettingWithCopyWarning: \n",
      "A value is trying to be set on a copy of a slice from a DataFrame\n",
      "\n",
      "See the caveats in the documentation: https://pandas.pydata.org/pandas-docs/stable/user_guide/indexing.html#returning-a-view-versus-a-copy\n",
      "  data['text'][i] = re.sub(r'\\w*\\d\\w*', '', data['text'][i]).strip()\n",
      "C:\\Users\\LENOVO\\AppData\\Local\\Temp/ipykernel_7540/2369810091.py:13: SettingWithCopyWarning: \n",
      "A value is trying to be set on a copy of a slice from a DataFrame\n",
      "\n",
      "See the caveats in the documentation: https://pandas.pydata.org/pandas-docs/stable/user_guide/indexing.html#returning-a-view-versus-a-copy\n",
      "  data['text'][i] = word_tokenize(data['text'][i])\n"
     ]
    }
   ],
   "source": [
    "skips = [\".\", \",\", \":\", \";\", \"'\", '\"', '_', '-', '%', '_', '(', ')', '!', '/', '--', '?', '$', '|', \n",
    "         '=', '*', '@', '<', '>', '^', '{', '}', '`', '~', '+', ']', '[' '\\\\', '\\\\\\\\', \"&\", '#',\n",
    "         '\\x01', '\\x05', '\\x06', '\\x07', '\\x0f', '\\x14', '\\x15']\n",
    "\n",
    "for i in range(len(data['text'])):\n",
    "    data['text'][i].lower()\n",
    "    \n",
    "    for ch in skips:\n",
    "        data['text'][i] = data['text'][i].replace(ch, \"\")\n",
    "        \n",
    "    data['text'][i] = re.sub(r'\\w*\\d\\w*', '', data['text'][i]).strip()\n",
    "        \n",
    "    data['text'][i] = word_tokenize(data['text'][i])"
   ]
  },
  {
   "cell_type": "code",
   "execution_count": 4,
   "id": "3c04b6d8",
   "metadata": {},
   "outputs": [
    {
     "name": "stderr",
     "output_type": "stream",
     "text": [
      "C:\\Users\\LENOVO\\AppData\\Local\\Temp/ipykernel_7540/679345973.py:2: SettingWithCopyWarning: \n",
      "A value is trying to be set on a copy of a slice from a DataFrame\n",
      "\n",
      "See the caveats in the documentation: https://pandas.pydata.org/pandas-docs/stable/user_guide/indexing.html#returning-a-view-versus-a-copy\n",
      "  data['text'][i] = [di for di in data['text'][i] if not di in set(stopwords.words('english'))]\n"
     ]
    }
   ],
   "source": [
    "for i in range(len(data['text'])):\n",
    "    data['text'][i] = [di for di in data['text'][i] if not di in set(stopwords.words('english'))]"
   ]
  },
  {
   "cell_type": "code",
   "execution_count": 5,
   "id": "aae9b18b",
   "metadata": {},
   "outputs": [
    {
     "name": "stderr",
     "output_type": "stream",
     "text": [
      "C:\\Users\\LENOVO\\AppData\\Local\\Temp/ipykernel_7540/2137653994.py:3: SettingWithCopyWarning: \n",
      "A value is trying to be set on a copy of a slice from a DataFrame\n",
      "\n",
      "See the caveats in the documentation: https://pandas.pydata.org/pandas-docs/stable/user_guide/indexing.html#returning-a-view-versus-a-copy\n",
      "  data['text'][i] = [ps.stem(di) for di in data['text'][i]]\n"
     ]
    }
   ],
   "source": [
    "for i in range(len(data['text'])):\n",
    "    ps = PorterStemmer()\n",
    "    data['text'][i] = [ps.stem(di) for di in data['text'][i]]"
   ]
  },
  {
   "cell_type": "code",
   "execution_count": 6,
   "id": "a5520188",
   "metadata": {},
   "outputs": [
    {
     "name": "stdout",
     "output_type": "stream",
     "text": [
      "25592\n"
     ]
    }
   ],
   "source": [
    "vocab = []\n",
    "\n",
    "for i in range(len(data['text'])):\n",
    "    for j in range(len(data['text'][i])):\n",
    "        if data['text'][i][j] not in vocab:\n",
    "            vocab.append(data['text'][i][j])\n",
    "    \n",
    "print(len(vocab))"
   ]
  },
  {
   "cell_type": "code",
   "execution_count": 7,
   "id": "ff88e22b",
   "metadata": {},
   "outputs": [
    {
     "name": "stdout",
     "output_type": "stream",
     "text": [
      "[[1. 1. 1. ... 0. 0. 0.]\n",
      " [1. 0. 0. ... 0. 0. 0.]\n",
      " [1. 0. 0. ... 0. 0. 0.]\n",
      " ...\n",
      " [1. 0. 0. ... 0. 0. 0.]\n",
      " [1. 0. 0. ... 0. 0. 0.]\n",
      " [1. 0. 0. ... 0. 1. 1.]]\n"
     ]
    }
   ],
   "source": [
    "word_mt = np.zeros([len(data['text']), len(vocab)])\n",
    "\n",
    "for i in range(len(data['text'])):\n",
    "    for j in range(len(data['text'][i])):\n",
    "        tmp = vocab.index(data['text'][i][j])\n",
    "        word_mt[i][tmp] = 1\n",
    "\n",
    "print(word_mt)"
   ]
  },
  {
   "cell_type": "code",
   "execution_count": 8,
   "id": "e889feb7",
   "metadata": {},
   "outputs": [],
   "source": [
    "X = word_mt\n",
    "y = data['spam']\n",
    "\n",
    "X_train, X_test, y_train, y_test = train_test_split(X, y, test_size=0.25)"
   ]
  },
  {
   "cell_type": "code",
   "execution_count": 9,
   "id": "38c64544",
   "metadata": {},
   "outputs": [
    {
     "name": "stdout",
     "output_type": "stream",
     "text": [
      "Accuracy Bernoulli:  0.979050279329609\n"
     ]
    }
   ],
   "source": [
    "bnl = BernoulliNB()\n",
    "bnl.fit(X_train, y_train)\n",
    "y_pred = bnl.predict(X_test)\n",
    "print(\"Accuracy Bernoulli: \", metrics.accuracy_score(y_test, y_pred))"
   ]
  },
  {
   "cell_type": "code",
   "execution_count": 10,
   "id": "bec75260",
   "metadata": {},
   "outputs": [
    {
     "name": "stdout",
     "output_type": "stream",
     "text": [
      "Accuracy Gaussian:  0.9685754189944135\n"
     ]
    }
   ],
   "source": [
    "gnb = GaussianNB()\n",
    "gnb.fit(X_train, y_train)\n",
    "y_pred = gnb.predict(X_test)\n",
    "print(\"Accuracy Gaussian: \", metrics.accuracy_score(y_test, y_pred))"
   ]
  },
  {
   "cell_type": "code",
   "execution_count": 11,
   "id": "abc9d9a4",
   "metadata": {},
   "outputs": [
    {
     "name": "stdout",
     "output_type": "stream",
     "text": [
      "Accuracy Multinomial:  0.9881284916201117\n"
     ]
    }
   ],
   "source": [
    "mnb = MultinomialNB()\n",
    "mnb.fit(X_train, y_train)\n",
    "y_pred = mnb.predict(X_test)\n",
    "print(\"Accuracy Multinomial: \", metrics.accuracy_score(y_test, y_pred))"
   ]
  }
 ],
 "metadata": {
  "kernelspec": {
   "display_name": "Python 3 (ipykernel)",
   "language": "python",
   "name": "python3"
  },
  "language_info": {
   "codemirror_mode": {
    "name": "ipython",
    "version": 3
   },
   "file_extension": ".py",
   "mimetype": "text/x-python",
   "name": "python",
   "nbconvert_exporter": "python",
   "pygments_lexer": "ipython3",
   "version": "3.8.8"
  }
 },
 "nbformat": 4,
 "nbformat_minor": 5
}
